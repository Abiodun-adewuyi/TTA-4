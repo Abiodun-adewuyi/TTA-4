{
 "cells": [
  {
   "cell_type": "code",
   "execution_count": null,
   "metadata": {},
   "outputs": [],
   "source": []
  },
  {
   "cell_type": "code",
   "execution_count": 2,
   "metadata": {},
   "outputs": [],
   "source": [
    "myfiles= open ('numbers', \"a\")\n",
    "myfiles.write (\"3\\n\")\n",
    "myfiles.write (\"45\\n\")\n",
    "myfiles.write (\"83\\n\")\n",
    "myfiles.write (\"21\\n\")\n",
    "myfiles.close()"
   ]
  },
  {
   "cell_type": "code",
   "execution_count": 3,
   "metadata": {},
   "outputs": [
    {
     "name": "stdout",
     "output_type": "stream",
     "text": [
      "Students percentge mark\n",
      "Your Grade is D\n"
     ]
    }
   ],
   "source": [
    "print (\"Students percentge mark\")\n",
    "mark_grade = int(input())\n",
    "\n",
    "if mark_grade >=71 and mark_grade <=100:\n",
    "    print(\"Your Grade is A\")\n",
    "elif mark_grade >=60 and mark_grade <=70:\n",
    "    print(\"Your Grade is B\")\n",
    "elif mark_grade >=50 and mark_grade <61:\n",
    "    print(\"Your Grade is C\")\n",
    "elif mark_grade >=40 and mark_grade <=49:\n",
    "    print(\"Your Grade is D\")\n",
    "elif mark_grade >=30 and mark_grade <49:\n",
    "    print(\"Your Grade is E\")\n",
    "elif mark_grade >=0 and mark_grade <21:\n",
    "    print(\"Your Grade is F\")\n",
    "else:\n",
    "    print(\"Invalid Input!\")"
   ]
  }
 ],
 "metadata": {
  "interpreter": {
   "hash": "5d240ba0dc525c389faa33f5dcce5b4f32b6d6aa6d70d6d2dd929bd2b09ab69f"
  },
  "kernelspec": {
   "display_name": "Python 3.10.0 64-bit",
   "language": "python",
   "name": "python3"
  },
  "language_info": {
   "codemirror_mode": {
    "name": "ipython",
    "version": 3
   },
   "file_extension": ".py",
   "mimetype": "text/x-python",
   "name": "python",
   "nbconvert_exporter": "python",
   "pygments_lexer": "ipython3",
   "version": "3.10.4"
  },
  "orig_nbformat": 4
 },
 "nbformat": 4,
 "nbformat_minor": 2
}
